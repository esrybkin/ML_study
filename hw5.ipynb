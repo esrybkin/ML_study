{
  "nbformat": 4,
  "nbformat_minor": 0,
  "metadata": {
    "colab": {
      "provenance": []
    },
    "kernelspec": {
      "name": "python3",
      "display_name": "Python 3"
    },
    "language_info": {
      "name": "python"
    }
  },
  "cells": [
    {
      "cell_type": "code",
      "source": [
        "import keras\n",
        "from keras.layers import Dense, SimpleRNN, Input\n",
        "from keras.models import Sequential\n",
        "from keras.preprocessing.text import Tokenizer, text_to_word_sequence\n",
        "from keras.utils import to_categorical"
      ],
      "metadata": {
        "id": "bCEbVkaNdtX7"
      },
      "execution_count": null,
      "outputs": []
    },
    {
      "cell_type": "code",
      "execution_count": null,
      "metadata": {
        "id": "_Ld6WOIDP1BP"
      },
      "outputs": [],
      "source": [
        "with open('train_data.txt', 'r', encoding='utf-8') as f:\n",
        "    texts = f.read()\n",
        "    texts = texts.replace('\\ufeff', '') # убираем первый невидимый символ"
      ]
    },
    {
      "cell_type": "code",
      "source": [
        "import numpy as np"
      ],
      "metadata": {
        "id": "JhJUVTKuS8F3"
      },
      "execution_count": null,
      "outputs": []
    },
    {
      "cell_type": "code",
      "source": [
        "maxWordsCount = 1000\n",
        "tokenizer = Tokenizer(num_words=maxWordsCount, filters='!–\"—#$%&amp;()*+,-./:;<=>?@[\\\\]^_`{|}~\\t\\n\\r«»',\n",
        "                       lower=True, split=' ', char_level=False)\n",
        "tokenizer.fit_on_texts([texts])"
      ],
      "metadata": {
        "id": "-0utfN-vQBwD"
      },
      "execution_count": null,
      "outputs": []
    },
    {
      "cell_type": "code",
      "source": [
        "dist = list(tokenizer.word_counts.items())\n",
        "print(dist[:10])"
      ],
      "metadata": {
        "id": "ssicxzgeTLpY",
        "colab": {
          "base_uri": "https://localhost:8080/"
        },
        "outputId": "5fdfe600-0ab0-4df2-8a65-282b5d0bce0b"
      },
      "execution_count": null,
      "outputs": [
        {
          "output_type": "stream",
          "name": "stdout",
          "text": [
            "[('вы', 3), ('лучший', 1), ('ответ', 1), ('на', 1), ('проблемы', 1), ('которые', 1), ('возникли', 1), ('в', 3), ('понедельник', 2), ('думайте', 1)]\n"
          ]
        }
      ]
    },
    {
      "cell_type": "code",
      "source": [
        "data = tokenizer.texts_to_sequences([texts])"
      ],
      "metadata": {
        "id": "hrpkAnJ4Td85"
      },
      "execution_count": null,
      "outputs": []
    },
    {
      "cell_type": "code",
      "source": [
        "print(data)"
      ],
      "metadata": {
        "id": "JNgMwjGwlgT5",
        "colab": {
          "base_uri": "https://localhost:8080/"
        },
        "outputId": "c4717649-b4af-4ab7-9be4-18811b01217e"
      },
      "execution_count": null,
      "outputs": [
        {
          "output_type": "stream",
          "name": "stdout",
          "text": [
            "[[1, 4, 5, 6, 7, 8, 9, 2, 3, 10, 11, 12, 13, 2, 14, 15, 16, 17, 18, 19, 1, 20, 2, 3, 21, 22, 23, 24, 1, 25, 26]]\n"
          ]
        }
      ]
    },
    {
      "cell_type": "code",
      "source": [
        "res = keras.utils.to_categorical(data[0], num_classes=maxWordsCount)\n",
        "print( res.shape )"
      ],
      "metadata": {
        "id": "euu75hwuTlPK",
        "colab": {
          "base_uri": "https://localhost:8080/"
        },
        "outputId": "dcd0591e-fc8f-4c2c-9a2b-e48112157912"
      },
      "execution_count": null,
      "outputs": [
        {
          "output_type": "stream",
          "name": "stdout",
          "text": [
            "(31, 1000)\n"
          ]
        }
      ]
    },
    {
      "cell_type": "code",
      "source": [
        "inp_words = 3\n",
        "n = res.shape[0]-inp_words"
      ],
      "metadata": {
        "id": "1TVeej_wT4CH"
      },
      "execution_count": null,
      "outputs": []
    },
    {
      "cell_type": "code",
      "source": [
        "X = np.array([res[i:i+inp_words, :] for i in range(n)])\n",
        "Y = res[inp_words:]"
      ],
      "metadata": {
        "id": "_ywEIkLHT76x"
      },
      "execution_count": null,
      "outputs": []
    },
    {
      "cell_type": "code",
      "source": [
        "model = Sequential()\n",
        "model.add(Input((inp_words, maxWordsCount)))\n",
        "model.add(SimpleRNN(128, activation='tanh'))\n",
        "model.add(Dense(maxWordsCount, activation='softmax'))\n",
        "model.summary()\n",
        "\n",
        "model.compile(loss='categorical_crossentropy', metrics=['accuracy'], optimizer='adam')"
      ],
      "metadata": {
        "id": "ZykMljY9UIue",
        "colab": {
          "base_uri": "https://localhost:8080/"
        },
        "outputId": "16ef991e-27f4-47b2-fcfc-7cf04b09ceeb"
      },
      "execution_count": null,
      "outputs": [
        {
          "output_type": "stream",
          "name": "stdout",
          "text": [
            "Model: \"sequential\"\n",
            "_________________________________________________________________\n",
            " Layer (type)                Output Shape              Param #   \n",
            "=================================================================\n",
            " simple_rnn (SimpleRNN)      (None, 128)               144512    \n",
            "                                                                 \n",
            " dense (Dense)               (None, 1000)              129000    \n",
            "                                                                 \n",
            "=================================================================\n",
            "Total params: 273512 (1.04 MB)\n",
            "Trainable params: 273512 (1.04 MB)\n",
            "Non-trainable params: 0 (0.00 Byte)\n",
            "_________________________________________________________________\n"
          ]
        }
      ]
    },
    {
      "cell_type": "code",
      "source": [
        "history = model.fit(X, Y, batch_size=32, epochs=50)"
      ],
      "metadata": {
        "id": "V17n3iz6Ugd3",
        "colab": {
          "base_uri": "https://localhost:8080/"
        },
        "outputId": "0217e99f-e7e0-417d-ac78-353770aa2fa8"
      },
      "execution_count": null,
      "outputs": [
        {
          "output_type": "stream",
          "name": "stdout",
          "text": [
            "Epoch 1/50\n",
            "1/1 [==============================] - 1s 1s/step - loss: 6.9100 - accuracy: 0.0000e+00\n",
            "Epoch 2/50\n",
            "1/1 [==============================] - 0s 17ms/step - loss: 6.8842 - accuracy: 0.0000e+00\n",
            "Epoch 3/50\n",
            "1/1 [==============================] - 0s 18ms/step - loss: 6.8581 - accuracy: 0.0000e+00\n",
            "Epoch 4/50\n",
            "1/1 [==============================] - 0s 17ms/step - loss: 6.8315 - accuracy: 0.1429\n",
            "Epoch 5/50\n",
            "1/1 [==============================] - 0s 16ms/step - loss: 6.8041 - accuracy: 0.3571\n",
            "Epoch 6/50\n",
            "1/1 [==============================] - 0s 18ms/step - loss: 6.7757 - accuracy: 0.6786\n",
            "Epoch 7/50\n",
            "1/1 [==============================] - 0s 15ms/step - loss: 6.7460 - accuracy: 0.7857\n",
            "Epoch 8/50\n",
            "1/1 [==============================] - 0s 18ms/step - loss: 6.7146 - accuracy: 1.0000\n",
            "Epoch 9/50\n",
            "1/1 [==============================] - 0s 17ms/step - loss: 6.6812 - accuracy: 1.0000\n",
            "Epoch 10/50\n",
            "1/1 [==============================] - 0s 15ms/step - loss: 6.6455 - accuracy: 1.0000\n",
            "Epoch 11/50\n",
            "1/1 [==============================] - 0s 17ms/step - loss: 6.6068 - accuracy: 1.0000\n",
            "Epoch 12/50\n",
            "1/1 [==============================] - 0s 29ms/step - loss: 6.5649 - accuracy: 1.0000\n",
            "Epoch 13/50\n",
            "1/1 [==============================] - 0s 18ms/step - loss: 6.5189 - accuracy: 1.0000\n",
            "Epoch 14/50\n",
            "1/1 [==============================] - 0s 16ms/step - loss: 6.4682 - accuracy: 1.0000\n",
            "Epoch 15/50\n",
            "1/1 [==============================] - 0s 16ms/step - loss: 6.4120 - accuracy: 1.0000\n",
            "Epoch 16/50\n",
            "1/1 [==============================] - 0s 25ms/step - loss: 6.3492 - accuracy: 1.0000\n",
            "Epoch 17/50\n",
            "1/1 [==============================] - 0s 15ms/step - loss: 6.2787 - accuracy: 1.0000\n",
            "Epoch 18/50\n",
            "1/1 [==============================] - 0s 17ms/step - loss: 6.1992 - accuracy: 1.0000\n",
            "Epoch 19/50\n",
            "1/1 [==============================] - 0s 18ms/step - loss: 6.1094 - accuracy: 1.0000\n",
            "Epoch 20/50\n",
            "1/1 [==============================] - 0s 17ms/step - loss: 6.0074 - accuracy: 1.0000\n",
            "Epoch 21/50\n",
            "1/1 [==============================] - 0s 16ms/step - loss: 5.8915 - accuracy: 1.0000\n",
            "Epoch 22/50\n",
            "1/1 [==============================] - 0s 17ms/step - loss: 5.7600 - accuracy: 1.0000\n",
            "Epoch 23/50\n",
            "1/1 [==============================] - 0s 20ms/step - loss: 5.6107 - accuracy: 1.0000\n",
            "Epoch 24/50\n",
            "1/1 [==============================] - 0s 18ms/step - loss: 5.4420 - accuracy: 0.9643\n",
            "Epoch 25/50\n",
            "1/1 [==============================] - 0s 21ms/step - loss: 5.2524 - accuracy: 0.9286\n",
            "Epoch 26/50\n",
            "1/1 [==============================] - 0s 16ms/step - loss: 5.0409 - accuracy: 0.9286\n",
            "Epoch 27/50\n",
            "1/1 [==============================] - 0s 16ms/step - loss: 4.8079 - accuracy: 0.8571\n",
            "Epoch 28/50\n",
            "1/1 [==============================] - 0s 16ms/step - loss: 4.5552 - accuracy: 0.7500\n",
            "Epoch 29/50\n",
            "1/1 [==============================] - 0s 18ms/step - loss: 4.2876 - accuracy: 0.7143\n",
            "Epoch 30/50\n",
            "1/1 [==============================] - 0s 24ms/step - loss: 4.0133 - accuracy: 0.6429\n",
            "Epoch 31/50\n",
            "1/1 [==============================] - 0s 16ms/step - loss: 3.7449 - accuracy: 0.5714\n",
            "Epoch 32/50\n",
            "1/1 [==============================] - 0s 18ms/step - loss: 3.4982 - accuracy: 0.5000\n",
            "Epoch 33/50\n",
            "1/1 [==============================] - 0s 16ms/step - loss: 3.2894 - accuracy: 0.4643\n",
            "Epoch 34/50\n",
            "1/1 [==============================] - 0s 17ms/step - loss: 3.1288 - accuracy: 0.4643\n",
            "Epoch 35/50\n",
            "1/1 [==============================] - 0s 17ms/step - loss: 3.0166 - accuracy: 0.3929\n",
            "Epoch 36/50\n",
            "1/1 [==============================] - 0s 16ms/step - loss: 2.9436 - accuracy: 0.3214\n",
            "Epoch 37/50\n",
            "1/1 [==============================] - 0s 19ms/step - loss: 2.8971 - accuracy: 0.3214\n",
            "Epoch 38/50\n",
            "1/1 [==============================] - 0s 17ms/step - loss: 2.8663 - accuracy: 0.2857\n",
            "Epoch 39/50\n",
            "1/1 [==============================] - 0s 16ms/step - loss: 2.8439 - accuracy: 0.2143\n",
            "Epoch 40/50\n",
            "1/1 [==============================] - 0s 16ms/step - loss: 2.8262 - accuracy: 0.1786\n",
            "Epoch 41/50\n",
            "1/1 [==============================] - 0s 17ms/step - loss: 2.8109 - accuracy: 0.1429\n",
            "Epoch 42/50\n",
            "1/1 [==============================] - 0s 16ms/step - loss: 2.7971 - accuracy: 0.1786\n",
            "Epoch 43/50\n",
            "1/1 [==============================] - 0s 17ms/step - loss: 2.7838 - accuracy: 0.1786\n",
            "Epoch 44/50\n",
            "1/1 [==============================] - 0s 21ms/step - loss: 2.7702 - accuracy: 0.1786\n",
            "Epoch 45/50\n",
            "1/1 [==============================] - 0s 27ms/step - loss: 2.7556 - accuracy: 0.1786\n",
            "Epoch 46/50\n",
            "1/1 [==============================] - 0s 22ms/step - loss: 2.7390 - accuracy: 0.1786\n",
            "Epoch 47/50\n",
            "1/1 [==============================] - 0s 17ms/step - loss: 2.7198 - accuracy: 0.2143\n",
            "Epoch 48/50\n",
            "1/1 [==============================] - 0s 18ms/step - loss: 2.6975 - accuracy: 0.2143\n",
            "Epoch 49/50\n",
            "1/1 [==============================] - 0s 19ms/step - loss: 2.6718 - accuracy: 0.2143\n",
            "Epoch 50/50\n",
            "1/1 [==============================] - 0s 16ms/step - loss: 2.6425 - accuracy: 0.2143\n"
          ]
        }
      ]
    },
    {
      "cell_type": "code",
      "source": [
        "print(data)"
      ],
      "metadata": {
        "id": "bIV-Mxq6mubC",
        "colab": {
          "base_uri": "https://localhost:8080/"
        },
        "outputId": "0a6b50ce-6f4c-4ee2-a09e-77fd87dde6b7"
      },
      "execution_count": null,
      "outputs": [
        {
          "output_type": "stream",
          "name": "stdout",
          "text": [
            "[[1, 4, 5, 6, 7, 8, 9, 2, 3, 10, 11, 12, 13, 2, 14, 15, 16, 17, 18, 19, 1, 20, 2, 3, 21, 22, 23, 24, 1, 25, 26]]\n"
          ]
        }
      ]
    },
    {
      "cell_type": "code",
      "source": [
        "def buildPhrase(texts, str_len = 50):\n",
        "  res = texts\n",
        "  data1 = tokenizer.texts_to_sequences([texts])[0]\n",
        "\n",
        "  for i in range(str_len):\n",
        "    x = to_categorical(data1[i: i+inp_words], num_classes=maxWordsCount) # преобразуем в One-Hot-encoding\n",
        "    inp = x.reshape(1, inp_words, maxWordsCount)\n",
        "\n",
        "    pred = model.predict( inp ) # предсказываем OHE четвертого символа\n",
        "    indx = pred.argmax(axis=1)[0]\n",
        "    data1.append(indx)\n",
        "\n",
        "    res += \" \" + tokenizer.index_word[indx] # дописываем строку\n",
        "\n",
        "  return res"
      ],
      "metadata": {
        "id": "jYPhwySmoW2T"
      },
      "execution_count": null,
      "outputs": []
    },
    {
      "cell_type": "markdown",
      "source": [
        " x = to_categorical(data1[i: i+inp_words], num_classes=maxWordsCount) # преобразуем в One-Hot-encoding\n",
        "\n",
        " как я понял в этот момент формируется пустой массив. Почему нет данных так и не смог разобраться. Гуглил в интернете, там тоже задаются таким вопросом."
      ],
      "metadata": {
        "id": "AeB9uMymL3do"
      }
    },
    {
      "cell_type": "code",
      "source": [
        "res = buildPhrase(\"позитив добавляет годы\")\n",
        "print(res)"
      ],
      "metadata": {
        "id": "jBCCe25sUnfI",
        "colab": {
          "base_uri": "https://localhost:8080/",
          "height": 280
        },
        "outputId": "d0aa7006-c822-4d3d-f9c2-c121f64baa10"
      },
      "execution_count": 27,
      "outputs": [
        {
          "output_type": "error",
          "ename": "ValueError",
          "evalue": "cannot reshape array of size 0 into shape (1,3,1000)",
          "traceback": [
            "\u001b[0;31m---------------------------------------------------------------------------\u001b[0m",
            "\u001b[0;31mValueError\u001b[0m                                Traceback (most recent call last)",
            "\u001b[0;32m<ipython-input-27-ad303e984590>\u001b[0m in \u001b[0;36m<cell line: 1>\u001b[0;34m()\u001b[0m\n\u001b[0;32m----> 1\u001b[0;31m \u001b[0mres\u001b[0m \u001b[0;34m=\u001b[0m \u001b[0mbuildPhrase\u001b[0m\u001b[0;34m(\u001b[0m\u001b[0;34m\"позитив добавляет годы\"\u001b[0m\u001b[0;34m)\u001b[0m\u001b[0;34m\u001b[0m\u001b[0;34m\u001b[0m\u001b[0m\n\u001b[0m\u001b[1;32m      2\u001b[0m \u001b[0mprint\u001b[0m\u001b[0;34m(\u001b[0m\u001b[0mres\u001b[0m\u001b[0;34m)\u001b[0m\u001b[0;34m\u001b[0m\u001b[0;34m\u001b[0m\u001b[0m\n",
            "\u001b[0;32m<ipython-input-24-c49b095a6dc6>\u001b[0m in \u001b[0;36mbuildPhrase\u001b[0;34m(texts, str_len)\u001b[0m\n\u001b[1;32m      5\u001b[0m   \u001b[0;32mfor\u001b[0m \u001b[0mi\u001b[0m \u001b[0;32min\u001b[0m \u001b[0mrange\u001b[0m\u001b[0;34m(\u001b[0m\u001b[0mstr_len\u001b[0m\u001b[0;34m)\u001b[0m\u001b[0;34m:\u001b[0m\u001b[0;34m\u001b[0m\u001b[0;34m\u001b[0m\u001b[0m\n\u001b[1;32m      6\u001b[0m     \u001b[0mx\u001b[0m \u001b[0;34m=\u001b[0m \u001b[0mto_categorical\u001b[0m\u001b[0;34m(\u001b[0m\u001b[0mdata1\u001b[0m\u001b[0;34m[\u001b[0m\u001b[0mi\u001b[0m\u001b[0;34m:\u001b[0m \u001b[0mi\u001b[0m\u001b[0;34m+\u001b[0m\u001b[0minp_words\u001b[0m\u001b[0;34m]\u001b[0m\u001b[0;34m,\u001b[0m \u001b[0mnum_classes\u001b[0m\u001b[0;34m=\u001b[0m\u001b[0mmaxWordsCount\u001b[0m\u001b[0;34m)\u001b[0m \u001b[0;31m# преобразуем в One-Hot-encoding\u001b[0m\u001b[0;34m\u001b[0m\u001b[0;34m\u001b[0m\u001b[0m\n\u001b[0;32m----> 7\u001b[0;31m     \u001b[0minp\u001b[0m \u001b[0;34m=\u001b[0m \u001b[0mx\u001b[0m\u001b[0;34m.\u001b[0m\u001b[0mreshape\u001b[0m\u001b[0;34m(\u001b[0m\u001b[0;36m1\u001b[0m\u001b[0;34m,\u001b[0m \u001b[0minp_words\u001b[0m\u001b[0;34m,\u001b[0m \u001b[0mmaxWordsCount\u001b[0m\u001b[0;34m)\u001b[0m\u001b[0;34m\u001b[0m\u001b[0;34m\u001b[0m\u001b[0m\n\u001b[0m\u001b[1;32m      8\u001b[0m \u001b[0;34m\u001b[0m\u001b[0m\n\u001b[1;32m      9\u001b[0m     \u001b[0mpred\u001b[0m \u001b[0;34m=\u001b[0m \u001b[0mmodel\u001b[0m\u001b[0;34m.\u001b[0m\u001b[0mpredict\u001b[0m\u001b[0;34m(\u001b[0m \u001b[0minp\u001b[0m \u001b[0;34m)\u001b[0m \u001b[0;31m# предсказываем OHE четвертого символа\u001b[0m\u001b[0;34m\u001b[0m\u001b[0;34m\u001b[0m\u001b[0m\n",
            "\u001b[0;31mValueError\u001b[0m: cannot reshape array of size 0 into shape (1,3,1000)"
          ]
        }
      ]
    }
  ]
}