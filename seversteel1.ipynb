{
 "cells": [
  {
   "cell_type": "code",
   "execution_count": 1,
   "id": "bde0768b",
   "metadata": {},
   "outputs": [
    {
     "name": "stdout",
     "output_type": "stream",
     "text": [
      "WARNING:tensorflow:From C:\\Users\\jonnr\\AppData\\Local\\Programs\\Python\\Python310\\lib\\site-packages\\keras\\src\\losses.py:2976: The name tf.losses.sparse_softmax_cross_entropy is deprecated. Please use tf.compat.v1.losses.sparse_softmax_cross_entropy instead.\n",
      "\n"
     ]
    }
   ],
   "source": [
    "import pandas as pd\n",
    "import numpy as np\n",
    "import matplotlib.pyplot as plt\n",
    "import seaborn as sns\n",
    "import warnings\n",
    "import keras\n",
    "from sklearn.model_selection import train_test_split\n",
    "from tqdm import tqdm\n",
    "from sklearn.preprocessing import OneHotEncoder,LabelEncoder\n",
    "from keras.utils import to_categorical\n",
    "from keras.models import Sequential\n",
    "import tensorflow as tf\n",
    "from keras.layers import Dense,Conv2D,Flatten,MaxPooling2D,Dropout\n",
    "import cv2"
   ]
  },
  {
   "cell_type": "code",
   "execution_count": 2,
   "id": "b9b2661d",
   "metadata": {},
   "outputs": [
    {
     "data": {
      "text/plain": [
       "(7095, 3)"
      ]
     },
     "execution_count": 2,
     "metadata": {},
     "output_type": "execute_result"
    }
   ],
   "source": [
    "data = pd.read_csv('content/train.csv')\n",
    "data.shape"
   ]
  },
  {
   "cell_type": "code",
   "execution_count": 3,
   "id": "99d5e4bf",
   "metadata": {},
   "outputs": [
    {
     "data": {
      "text/html": [
       "<div>\n",
       "<style scoped>\n",
       "    .dataframe tbody tr th:only-of-type {\n",
       "        vertical-align: middle;\n",
       "    }\n",
       "\n",
       "    .dataframe tbody tr th {\n",
       "        vertical-align: top;\n",
       "    }\n",
       "\n",
       "    .dataframe thead th {\n",
       "        text-align: right;\n",
       "    }\n",
       "</style>\n",
       "<table border=\"1\" class=\"dataframe\">\n",
       "  <thead>\n",
       "    <tr style=\"text-align: right;\">\n",
       "      <th></th>\n",
       "      <th>ImageId</th>\n",
       "      <th>ClassId</th>\n",
       "      <th>EncodedPixels</th>\n",
       "    </tr>\n",
       "  </thead>\n",
       "  <tbody>\n",
       "    <tr>\n",
       "      <th>0</th>\n",
       "      <td>0002cc93b.jpg</td>\n",
       "      <td>1</td>\n",
       "      <td>29102 12 29346 24 29602 24 29858 24 30114 24 3...</td>\n",
       "    </tr>\n",
       "    <tr>\n",
       "      <th>1</th>\n",
       "      <td>0007a71bf.jpg</td>\n",
       "      <td>3</td>\n",
       "      <td>18661 28 18863 82 19091 110 19347 110 19603 11...</td>\n",
       "    </tr>\n",
       "    <tr>\n",
       "      <th>2</th>\n",
       "      <td>000a4bcdd.jpg</td>\n",
       "      <td>1</td>\n",
       "      <td>37607 3 37858 8 38108 14 38359 20 38610 25 388...</td>\n",
       "    </tr>\n",
       "    <tr>\n",
       "      <th>3</th>\n",
       "      <td>000f6bf48.jpg</td>\n",
       "      <td>4</td>\n",
       "      <td>131973 1 132228 4 132483 6 132738 8 132993 11 ...</td>\n",
       "    </tr>\n",
       "    <tr>\n",
       "      <th>4</th>\n",
       "      <td>0014fce06.jpg</td>\n",
       "      <td>3</td>\n",
       "      <td>229501 11 229741 33 229981 55 230221 77 230468...</td>\n",
       "    </tr>\n",
       "    <tr>\n",
       "      <th>...</th>\n",
       "      <td>...</td>\n",
       "      <td>...</td>\n",
       "      <td>...</td>\n",
       "    </tr>\n",
       "    <tr>\n",
       "      <th>7090</th>\n",
       "      <td>ffcf72ecf.jpg</td>\n",
       "      <td>3</td>\n",
       "      <td>121911 34 122167 101 122422 169 122678 203 122...</td>\n",
       "    </tr>\n",
       "    <tr>\n",
       "      <th>7091</th>\n",
       "      <td>fff02e9c5.jpg</td>\n",
       "      <td>3</td>\n",
       "      <td>207523 3 207777 9 208030 15 208283 22 208537 2...</td>\n",
       "    </tr>\n",
       "    <tr>\n",
       "      <th>7092</th>\n",
       "      <td>fffe98443.jpg</td>\n",
       "      <td>3</td>\n",
       "      <td>105929 5 106177 14 106424 24 106672 33 106923 ...</td>\n",
       "    </tr>\n",
       "    <tr>\n",
       "      <th>7093</th>\n",
       "      <td>ffff4eaa8.jpg</td>\n",
       "      <td>3</td>\n",
       "      <td>16899 7 17155 20 17411 34 17667 47 17923 60 18...</td>\n",
       "    </tr>\n",
       "    <tr>\n",
       "      <th>7094</th>\n",
       "      <td>ffffd67df.jpg</td>\n",
       "      <td>3</td>\n",
       "      <td>30931 43 31103 127 31275 211 31489 253 31745 2...</td>\n",
       "    </tr>\n",
       "  </tbody>\n",
       "</table>\n",
       "<p>7095 rows × 3 columns</p>\n",
       "</div>"
      ],
      "text/plain": [
       "            ImageId  ClassId  \\\n",
       "0     0002cc93b.jpg        1   \n",
       "1     0007a71bf.jpg        3   \n",
       "2     000a4bcdd.jpg        1   \n",
       "3     000f6bf48.jpg        4   \n",
       "4     0014fce06.jpg        3   \n",
       "...             ...      ...   \n",
       "7090  ffcf72ecf.jpg        3   \n",
       "7091  fff02e9c5.jpg        3   \n",
       "7092  fffe98443.jpg        3   \n",
       "7093  ffff4eaa8.jpg        3   \n",
       "7094  ffffd67df.jpg        3   \n",
       "\n",
       "                                          EncodedPixels  \n",
       "0     29102 12 29346 24 29602 24 29858 24 30114 24 3...  \n",
       "1     18661 28 18863 82 19091 110 19347 110 19603 11...  \n",
       "2     37607 3 37858 8 38108 14 38359 20 38610 25 388...  \n",
       "3     131973 1 132228 4 132483 6 132738 8 132993 11 ...  \n",
       "4     229501 11 229741 33 229981 55 230221 77 230468...  \n",
       "...                                                 ...  \n",
       "7090  121911 34 122167 101 122422 169 122678 203 122...  \n",
       "7091  207523 3 207777 9 208030 15 208283 22 208537 2...  \n",
       "7092  105929 5 106177 14 106424 24 106672 33 106923 ...  \n",
       "7093  16899 7 17155 20 17411 34 17667 47 17923 60 18...  \n",
       "7094  30931 43 31103 127 31275 211 31489 253 31745 2...  \n",
       "\n",
       "[7095 rows x 3 columns]"
      ]
     },
     "execution_count": 3,
     "metadata": {},
     "output_type": "execute_result"
    }
   ],
   "source": [
    "data"
   ]
  },
  {
   "cell_type": "code",
   "execution_count": 4,
   "id": "7b019255",
   "metadata": {},
   "outputs": [
    {
     "data": {
      "text/plain": [
       "3    5150\n",
       "1     897\n",
       "4     801\n",
       "2     247\n",
       "Name: ClassId, dtype: int64"
      ]
     },
     "execution_count": 4,
     "metadata": {},
     "output_type": "execute_result"
    },
    {
     "data": {
      "image/png": "[encoded data removed]",
      "text/plain": [
       "<Figure size 640x480 with 1 Axes>"
      ]
     },
     "metadata": {},
     "output_type": "display_data"
    }
   ],
   "source": [
    "data[\"ClassId\"].value_counts().plot(kind = 'bar')\n",
    "data[\"ClassId\"].value_counts()"
   ]
  },
  {
   "cell_type": "code",
   "execution_count": 7,
   "id": "28e784ac",
   "metadata": {},
   "outputs": [
    {
     "name": "stderr",
     "output_type": "stream",
     "text": [
      "  0%|                                                                                                                                                                  | 0/7095 [00:00<?, ?it/s]\n"
     ]
    },
    {
     "ename": "error",
     "evalue": "OpenCV(4.9.0) D:\\a\\opencv-python\\opencv-python\\opencv\\modules\\imgproc\\src\\resize.cpp:4152: error: (-215:Assertion failed) !ssize.empty() in function 'cv::resize'\n",
     "output_type": "error",
     "traceback": [
      "\u001b[1;31m---------------------------------------------------------------------------\u001b[0m",
      "\u001b[1;31merror\u001b[0m                                     Traceback (most recent call last)",
      "Cell \u001b[1;32mIn[7], line 5\u001b[0m\n\u001b[0;32m      3\u001b[0m \u001b[38;5;28;01mfor\u001b[39;00m img,ClassId,EncodedPixels \u001b[38;5;129;01min\u001b[39;00m tqdm(data\u001b[38;5;241m.\u001b[39mvalues):\n\u001b[0;32m      4\u001b[0m     image\u001b[38;5;241m=\u001b[39mcv2\u001b[38;5;241m.\u001b[39mimread(\u001b[38;5;124m\"\u001b[39m\u001b[38;5;124m/content/train_images\u001b[39m\u001b[38;5;124m\"\u001b[39m\u001b[38;5;241m.\u001b[39mformat(img),cv2\u001b[38;5;241m.\u001b[39mIMREAD_COLOR)\n\u001b[1;32m----> 5\u001b[0m     image\u001b[38;5;241m=\u001b[39m\u001b[43mcv2\u001b[49m\u001b[38;5;241;43m.\u001b[39;49m\u001b[43mresize\u001b[49m\u001b[43m(\u001b[49m\u001b[43mimage\u001b[49m\u001b[43m,\u001b[49m\u001b[43m(\u001b[49m\u001b[38;5;241;43m120\u001b[39;49m\u001b[43m,\u001b[49m\u001b[38;5;241;43m120\u001b[39;49m\u001b[43m)\u001b[49m\u001b[43m)\u001b[49m\n\u001b[0;32m      6\u001b[0m     l1\u001b[38;5;241m.\u001b[39mappend(image)\n\u001b[0;32m      7\u001b[0m     l2\u001b[38;5;241m.\u001b[39mappend(ClassId)\n",
      "\u001b[1;31merror\u001b[0m: OpenCV(4.9.0) D:\\a\\opencv-python\\opencv-python\\opencv\\modules\\imgproc\\src\\resize.cpp:4152: error: (-215:Assertion failed) !ssize.empty() in function 'cv::resize'\n"
     ]
    }
   ],
   "source": [
    "l1=[]\n",
    "l2=[]\n",
    "for img,ClassId,EncodedPixels in tqdm(data.values):\n",
    "    image=cv2.imread(\"/content/train_images/{}\".format(img),cv2.IMREAD_COLOR)\n",
    "    image=cv2.resize(image,(120,120))\n",
    "    l1.append(image)\n",
    "    l2.append(ClassId)"
   ]
  },
  {
   "cell_type": "code",
   "execution_count": 11,
   "id": "13cf71c4",
   "metadata": {},
   "outputs": [
    {
     "data": {
      "text/html": [
       "<img src=\"000a4bcdd.jpg\"/>"
      ],
      "text/plain": [
       "<IPython.core.display.Image object>"
      ]
     },
     "execution_count": 11,
     "metadata": {},
     "output_type": "execute_result"
    }
   ],
   "source": [
    "from IPython.display import Image\n",
    "imgUrl = '000a4bcdd.jpg'            # setup path and filename\n",
    "img = Image(url=imgUrl)              # create the image object\n",
    "img                                  # display the image"
   ]
  },
  {
   "cell_type": "code",
   "execution_count": null,
   "id": "c4ddbf8d",
   "metadata": {},
   "outputs": [],
   "source": []
  }
 ],
 "metadata": {
  "kernelspec": {
   "display_name": "Python 3 (ipykernel)",
   "language": "python",
   "name": "python3"
  },
  "language_info": {
   "codemirror_mode": {
    "name": "ipython",
    "version": 3
   },
   "file_extension": ".py",
   "mimetype": "text/x-python",
   "name": "python",
   "nbconvert_exporter": "python",
   "pygments_lexer": "ipython3",
   "version": "3.10.2"
  }
 },
 "nbformat": 4,
 "nbformat_minor": 5
}
